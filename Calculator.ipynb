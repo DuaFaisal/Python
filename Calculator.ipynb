{
  "nbformat": 4,
  "nbformat_minor": 0,
  "metadata": {
    "colab": {
      "name": "Calculator.ipynb",
      "provenance": []
    },
    "kernelspec": {
      "name": "python3",
      "display_name": "Python 3"
    },
    "language_info": {
      "name": "python"
    }
  },
  "cells": [
    {
      "cell_type": "code",
      "execution_count": null,
      "metadata": {
        "colab": {
          "base_uri": "https://localhost:8080/"
        },
        "id": "zRKXVPH5nfLr",
        "outputId": "c31eb6fb-8fbc-4bdb-d530-2f8dec733660"
      },
      "outputs": [
        {
          "output_type": "stream",
          "name": "stdout",
          "text": [
            "\t\t\t\t**** CALCULATOR ****\n",
            "\n",
            "\n",
            "\t\t\t**** SELECT ONE FROM BELOW ****\n",
            "\n",
            "1) Addition\n",
            "2) Subtraction\n",
            "3) Multiplication\n",
            "4) Division\n",
            "5) Power\n",
            "6) Remainder\n",
            "7) Quit\n",
            "Enter your choice: 1\n",
            "Hello user! Please enter amount of numbers you want: 3\n",
            "Enter number: 4\n",
            "Enter number: 5\n",
            "Enter number: 6\n",
            "Addition is:  15\n",
            "\n",
            "\t\t\t**** SELECT ONE FROM BELOW ****\n",
            "\n",
            "1) Addition\n",
            "2) Subtraction\n",
            "3) Multiplication\n",
            "4) Division\n",
            "5) Power\n",
            "6) Remainder\n",
            "7) Quit\n",
            "Enter your choice: 7\n",
            "Are you sure you want to quit?(y/n)y\n",
            "You've Successfully Quit!!!\n"
          ]
        }
      ],
      "source": [
        "import math\n",
        "def add(lst, size):\n",
        "    sum = 0\n",
        "    for i in range(len(lst)):\n",
        "        sum += lst[i]\n",
        "    print(\"Addition is: \",sum)\n",
        "def sub(lst,size):\n",
        "    sub = lst[0]\n",
        "    for i in range(1,len(lst)):\n",
        "        sub -= lst[i]\n",
        "    print(\"Subtraction is: \",sub)\n",
        "def mul(lst,size):\n",
        "    mul = 1\n",
        "    for i in range(len(lst)):\n",
        "        mul *= lst[i]\n",
        "    print(\"Multiplication is: \",mul)\n",
        "def div(lst,size):\n",
        "    div = lst[0]\n",
        "    for i in range(1,len(lst)):\n",
        "        div /= lst[i]\n",
        "    print(\"Division is: \",div)\n",
        "def power(lst,size):\n",
        "    p = lst[0]\n",
        "    ans = math.pow(p,lst[1])\n",
        "    print(p,\"power\",lst[1],\"is:\",ans)\n",
        "def rem(lst,size):\n",
        "    ans = lst[0] % lst[1]\n",
        "    print(\"Answer is: \",ans)\n",
        "\n",
        "\n",
        "#--------------------------------------------------------------------#\n",
        "print(\"\\t\\t\\t\\t**** CALCULATOR ****\\n\")\n",
        "quit = False\n",
        "while not quit:\n",
        "    print(\"\\n\\t\\t\\t**** SELECT ONE FROM BELOW ****\\n\")\n",
        "    print(\"1) Addition\")\n",
        "    print(\"2) Subtraction\")\n",
        "    print(\"3) Multiplication\")\n",
        "    print(\"4) Division\")\n",
        "    print(\"5) Power\")\n",
        "    print(\"6) Remainder\")\n",
        "    print(\"7) Quit\")\n",
        "    choice = int(input(\"Enter your choice: \"))\n",
        "    if choice >=1 and choice <7:\n",
        "        num = int(input(\"Hello user! Please enter amount of numbers you want: \"))\n",
        "        num_list = []\n",
        "        for n in range(num):\n",
        "            nums = int(input(\"Enter number: \"))\n",
        "            num_list.append(nums)\n",
        "        if choice == 1:\n",
        "            add(num_list,num)\n",
        "        elif choice == 2:\n",
        "            sub(num_list,num)\n",
        "        elif choice == 3:\n",
        "            mul(num_list,num)\n",
        "        elif choice == 4:\n",
        "            div(num_list,num)\n",
        "        elif choice == 5:\n",
        "            if num == 2:\n",
        "                print(\"NOTE: The first number you entered is consider as base value!!\")\n",
        "                power(num_list,num)\n",
        "                continue\n",
        "            else:\n",
        "                print(\"Power function needs two numbers at a time!! Try Again!\")\n",
        "        elif choice == 6:\n",
        "            if num == 2:\n",
        "                rem(num_list, num)\n",
        "                continue\n",
        "            else:\n",
        "                print(\"Remainder function needs two numbers at a time!! Try Again!\")\n",
        "    elif choice == 7:\n",
        "        sure = input(\"Are you sure you want to quit?(y/n)\")\n",
        "        if sure == 'Y' or sure == 'y':\n",
        "            print(\"You've Successfully Quit!!!\")\n",
        "            quit = True\n",
        "            break\n",
        "        elif sure == 'N' or sure == 'n':\n",
        "            quit = False\n",
        "        else:\n",
        "            print(\"Error!\")\n",
        "            quit = True\n",
        "    else:\n",
        "        print(\"\\n\\t\\t**** PLEASE ENTER VALID CHOICE ****\")\n",
        "        continue"
      ]
    },
    {
      "cell_type": "code",
      "source": [
        ""
      ],
      "metadata": {
        "id": "bMo8H-m_tt10"
      },
      "execution_count": null,
      "outputs": []
    }
  ]
}